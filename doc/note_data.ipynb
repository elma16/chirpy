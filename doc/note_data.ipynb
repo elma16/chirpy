{
 "cells": [
  {
   "cell_type": "markdown",
   "source": [
    "# 1. I/O Module (FullWaveUST.io)\n",
    "## 1.1 load_mat(path)\n",
    "#### Purpose\n",
    "Read MATLAB v7.3+ files into Python, automatically fixing MATLAB→NumPy row/column conventions."
   ],
   "metadata": {
    "collapsed": false,
    "pycharm": {
     "name": "#%% md\n"
    }
   }
  },
  {
   "cell_type": "markdown",
   "source": [
    "#### Signature\n",
    "```python\n",
    "load_mat(path: str | Path) → dict[str, np.ndarray]\n",
    "```\n",
    "\n",
    "#### Parameters\n",
    "* path\n",
    "Path to the .mat file."
   ],
   "metadata": {
    "collapsed": false,
    "pycharm": {
     "name": "#%% md\n"
    }
   }
  },
  {
   "cell_type": "markdown",
   "source": [
    "#### Behavior\n",
    "1.\tOpens HDF5-backed .mat via h5py.\n",
    "2.\tLists variables and reports progress.\n",
    "3.\tFor each dataset:\n",
    "- Reads into a NumPy array.\n",
    "- If 2D or higher, transposes to restore MATLAB row-major ordering.\n",
    "- Converts to Fortran-order (column-major) for consistency, then squeezes singleton dims.\n",
    "4.\tReturns a dict mapping variable names → arrays."
   ],
   "metadata": {
    "collapsed": false,
    "pycharm": {
     "name": "#%% md\n"
    }
   }
  },
  {
   "cell_type": "markdown",
   "source": [
    "## 1.2 save_results(path, results_dict)\n",
    "#### Purpose\n",
    "Write Python arrays back to a .mat file for use in MATLAB, with optional compression.\n"
   ],
   "metadata": {
    "collapsed": false,
    "pycharm": {
     "name": "#%% md\n"
    }
   }
  },
  {
   "cell_type": "markdown",
   "source": [
    "#### Signature\n",
    "```python\n",
    "save_results(\n",
    "    path: str | Path,\n",
    "    results_dict: dict[str, array-like]\n",
    ") → None\n",
    "```\n",
    "#### Parameters\n",
    "- path\n",
    "Destination .mat file path; intermediate directories are created if needed.\n",
    "- results_dict\n",
    "Mapping from variable names to array-like objects (ndarrays, lists, etc.).\n"
   ],
   "metadata": {
    "collapsed": false,
    "pycharm": {
     "name": "#%% md\n"
    }
   }
  },
  {
   "cell_type": "markdown",
   "source": [
    "#### Behavior\n",
    "- Uses scipy.io.savemat with compression to write out all entries in results_dict."
   ],
   "metadata": {
    "collapsed": false,
    "pycharm": {
     "name": "#%% md\n"
    }
   }
  },
  {
   "cell_type": "markdown",
   "source": [
    "# 2. Geometry Module (FullWaveUST.geometry)\n",
    "All geometry classes inherit from the base Geometry, which handles common metadata.\n",
    "Defining and managing various geometric information, including the acquisition geometry of sensor arrays and the image geometry of reconstruction grids."
   ],
   "metadata": {
    "collapsed": false,
    "pycharm": {
     "name": "#%% md\n"
    }
   }
  },
  {
   "cell_type": "markdown",
   "source": [
    "## 2.1 Geometry Base Class\n",
    "#### Purpose\n",
    "Abstract container for spatial metadata: array shape and physical extent.\n",
    "\n",
    "#### Attributes\n",
    "- shape: tuple[int, …]\n",
    "- extent: tuple[float, …] | None\n",
    "\n",
    "#### Key Methods\n",
    "- copy() → deep copy of the geometry.\n",
    "- __repr__() → human-readable summary."
   ],
   "metadata": {
    "collapsed": false,
    "pycharm": {
     "name": "#%% md\n"
    }
   }
  },
  {
   "cell_type": "markdown",
   "source": [
    "## 2.2 AcquisitionGeometry\n",
    "\n",
    "#### Purpose\n",
    "Describe a linear( or ring) array of transducers (Tx/Rx), compute inter-element time-of-flight (TOF).\n"
   ],
   "metadata": {
    "collapsed": false,
    "pycharm": {
     "name": "#%% md\n"
    }
   }
  },
  {
   "cell_type": "markdown",
   "source": [
    "#### Constructor\n",
    "```python\n",
    "AcquisitionGeometry(\n",
    "    positions: array-like (2 × N),\n",
    "    c_geom: float\n",
    ")\n",
    "```\n",
    "#### Attributes\n",
    "- positions: ndarray (2 × N) -> sensor positions\n",
    "- c_geom: float -> sound velocity constants"
   ],
   "metadata": {
    "collapsed": false,
    "pycharm": {
     "name": "#%% md\n"
    }
   }
  },
  {
   "cell_type": "markdown",
   "source": [
    "#### Key Methods\n",
    "- from_dict(info: dict[str,Any]) → convenience ctor expecting keys \"positions\" and \"c_geom\".\n",
    "- compute_geometric_tofs() →\n",
    "Returns an (N, N) array of TOFs (distance/c_geom) between every transmitter (column) and receiver (row).\n",
    "- n_elements() → Returns total number of transducer elements (Tx == Rx).\n"
   ],
   "metadata": {
    "collapsed": false,
    "pycharm": {
     "name": "#%% md\n"
    }
   }
  },
  {
   "cell_type": "markdown",
   "source": [
    "## 2.3 ImageGeometry\n",
    "#### Purpose\n",
    "Define a 2D imaging grid by explicit x and y coordinate vectors."
   ],
   "metadata": {
    "collapsed": false,
    "pycharm": {
     "name": "#%% md\n"
    }
   }
  },
  {
   "cell_type": "markdown",
   "source": [
    "#### Constructor\n",
    "```python\n",
    "ImageGeometry(\n",
    "    xi: array-like (Nx,),\n",
    "    yi: array-like (Ny,)\n",
    ")\n",
    "```\n",
    "#### Attributes\n",
    "- xi: ndarray (Nx,)\n",
    "- yi: ndarray (Ny,)\n",
    "- Inherited shape = (Ny, Nx)\n",
    "- Inherited extent = (min(xi), max(xi), min(yi), max(yi))\n"
   ],
   "metadata": {
    "collapsed": false,
    "pycharm": {
     "name": "#%% md\n"
    }
   }
  },
  {
   "cell_type": "markdown",
   "source": [
    "#### Key Properties & Methods\n",
    "- nx, ny → number of grid points along x/y.\n",
    "- spacing → tuple (dx, dy) as mean grid step sizes.\n",
    "- meshgrid() → returns 2D coordinate arrays of shape (Ny, Nx) for plotting or evaluation."
   ],
   "metadata": {
    "collapsed": false,
    "pycharm": {
     "name": "#%% md\n"
    }
   }
  },
  {
   "cell_type": "markdown",
   "source": [
    "# 3. Data Container Module (FullWaveUST.data)\n",
    "All containers subclass DataContainer, which centralizes array-geometry pairing and common operations.\n"
   ],
   "metadata": {
    "collapsed": false,
    "pycharm": {
     "name": "#%% md\n"
    }
   }
  },
  {
   "cell_type": "markdown",
   "source": [
    "## 3.1 DataContainer Base Class\n",
    "#### Purpose\n",
    "Wrap a NumPy array with a Geometry object, providing cloning, I/O, indexing, FFT, arithmetic, and reductions."
   ],
   "metadata": {
    "collapsed": false,
    "pycharm": {
     "name": "#%% md\n"
    }
   }
  },
  {
   "cell_type": "markdown",
   "source": [
    "#### Constructor\n",
    "```python\n",
    "DataContainer(\n",
    "    array: np.ndarray,\n",
    "    geometry: Geometry\n",
    ")\n",
    "```\n",
    "#### Attributes\n",
    "- array : np.ndarray\n",
    "    The raw data array.\n",
    "- geometry : object\n",
    "    Geometry object describing the array coordinates.\n",
    "- ctx : dict\n",
    "    Context dictionary for additional metadata (default empty)."
   ],
   "metadata": {
    "collapsed": false,
    "pycharm": {
     "name": "#%% md\n"
    }
   }
  },
  {
   "cell_type": "markdown",
   "source": [
    "#### Key Methods\n",
    "- **`clone()` / `copy()`**\n",
    "  Return a deep copy (same subclass) with its own array and geometry.\n",
    "\n",
    "- **`save(path)`**\n",
    "  Save `array` to `.npy` or `.npz` (if path ends with `.npz`).\n",
    "\n",
    "- **`visualize(**kwargs)`**\n",
    "  Show 2D image of `array` using `geometry.extent`, passing kwargs to `imshow`.\n",
    "\n",
    "- **`reshape(new_shape)`**\n",
    "  Return new container with `array` reshaped to `new_shape`.\n",
    "\n",
    "- **`get_slice(index, axis=0)`**\n",
    "  Return new container containing `array` slice at `index` along `axis`.\n",
    "\n",
    "- **`reorder(order)`**\n",
    "  Return new container with axes permuted by `order`.\n",
    "\n",
    "- **`pad(pad_width, mode, **kwargs)`**\n",
    "  Return new container with `array` padded via `np.pad`.\n",
    "\n",
    "- **`crop(slices)`**\n",
    "  Return new container with `array` cropped by `slices`.\n",
    "\n",
    "- **`fft(axis=-1)` / `ifft(axis=-1)`**\n",
    "  Return new container with FFT / IFFT applied along `axis`.\n",
    "\n",
    "- **Arithmetic (`+`, `-`, `*`, `/`, unary `-`)**\n",
    "  Elementwise ops return new container; supports scalars or other containers.\n",
    "\n",
    "- **Reductions (`sum`, `mean`, `max`, `min`)**\n",
    "  Compute on `array` and return a NumPy scalar or array."
   ],
   "metadata": {
    "collapsed": false,
    "pycharm": {
     "name": "#%% md\n"
    }
   }
  },
  {
   "cell_type": "markdown",
   "source": [
    "## 3.2 AcquisitionData\n",
    "#### Purpose\n",
    "Specialize DataContainer for time- or frequency-domain acquisition data.\n"
   ],
   "metadata": {
    "collapsed": false,
    "pycharm": {
     "name": "#%% md\n"
    }
   }
  },
  {
   "cell_type": "markdown",
   "source": [
    "#### Constructor\n",
    "```python\n",
    "AcquisitionData(\n",
    "    array: np.ndarray,\n",
    "    time: np.ndarray,\n",
    "    geometry: AcquisitionGeometry\n",
    "    freqs: np.ndarray | None = None\n",
    ")\n",
    "```\n",
    "#### Attributes\n",
    "- array : np.ndarray\n",
    "  Time‐domain: shape (Tx, Rx, T)\n",
    "  Frequency‐domain: shape (Tx, Rx, F)\n",
    "- time : np.ndarray\n",
    "    Time vector of length T; set to None after transforming to frequency.\n",
    "- geometry : AcquisitionGeometry\n",
    "    Transmitter/receiver layout and reference speed.\n",
    "- freqs : np.ndarray | None\n",
    "    Frequency vector of length F; None if in time domain."
   ],
   "metadata": {
    "collapsed": false,
    "pycharm": {
     "name": "#%% md\n"
    }
   }
  },
  {
   "cell_type": "markdown",
   "source": [
    "#### Key Methods\n",
    "- get_array() → np.ndarray\n",
    "Return the raw array.\n",
    "- slice_frequency(f_idx: int) → np.ndarray\n",
    "For freq‐domain data, extract slice array[:, :, f_idx] (shape (Tx, Rx)).\n"
   ],
   "metadata": {
    "collapsed": false,
    "pycharm": {
     "name": "#%% md\n"
    }
   }
  },
  {
   "cell_type": "markdown",
   "source": [
    "## 3.3 ImageData\n",
    "#### Purpose\n",
    "Container for 2D images with update history."
   ],
   "metadata": {
    "collapsed": false,
    "pycharm": {
     "name": "#%% md\n"
    }
   }
  },
  {
   "cell_type": "markdown",
   "source": [
    "#### Constructor\n",
    "```python\n",
    "ImageData(\n",
    "    array: np.ndarray,\n",
    "    geometry: ImageGeometry\n",
    ")\n",
    "```\n",
    "#### Attributes\n",
    "- array : np.ndarray\n",
    "Current image (shape (Ny, Nx)).\n",
    "- geometry : ImageGeometry\n",
    "Grid coordinates and extent.\n",
    "- history : list[np.ndarray]\n",
    "Sequence of past image states, including the initial."
   ],
   "metadata": {
    "collapsed": false,
    "pycharm": {
     "name": "#%% md\n"
    }
   }
  },
  {
   "cell_type": "markdown",
   "source": [
    "#### Key Methods\n",
    "- update(new_array: np.ndarray) → None\n",
    "Replace array with new_array and append to history.\n",
    "- visualize(idx: int = -1, **kwargs) → None\n",
    "Display history[idx] via imshow with geometry.extent; pass kwargs (e.g. cmap).\n",
    "- save(path: str) → None\n",
    "Save current and full history into a single .npz file (current, history arrays)."
   ],
   "metadata": {
    "collapsed": false,
    "pycharm": {
     "name": "#%% md\n"
    }
   }
  },
  {
   "cell_type": "code",
   "execution_count": 2,
   "outputs": [],
   "source": [
    "# 1. Imports\n",
    "import numpy as np\n",
    "import matplotlib.pyplot as plt\n",
    "\n",
    "from FullWaveUST.io.load_mat       import load_mat\n",
    "from FullWaveUST.io.save_results   import save_results\n",
    "from FullWaveUST.geometry.acquisition_geometry import AcquisitionGeometry\n",
    "from FullWaveUST.geometry.image_geometry       import ImageGeometry\n",
    "from FullWaveUST.data.acquisition_data         import AcquisitionData\n",
    "from FullWaveUST.data.image_data               import ImageData"
   ],
   "metadata": {
    "collapsed": false,
    "pycharm": {
     "name": "#%%\n"
    }
   }
  },
  {
   "cell_type": "markdown",
   "source": [
    "## Generate a Synthetic Acquisition\n",
    "\n",
    "We place 3 sensor elements randomly in a plane and simulate full pairwise transmissions. Each channel receives a unit impulse at its geometric TOF, with added Gaussian noise."
   ],
   "metadata": {
    "collapsed": false,
    "pycharm": {
     "name": "#%% md\n"
    }
   }
  },
  {
   "cell_type": "code",
   "execution_count": 5,
   "outputs": [
    {
     "name": "stdout",
     "output_type": "stream",
     "text": [
      "acq_data.array.shape: (3, 3, 200)\n",
      "First TOF matrix (Tx, Rx):\n",
      " [[0.         0.05384155 0.04143286]\n",
      " [0.05384155 0.         0.03027116]\n",
      " [0.04143286 0.03027116 0.        ]]\n"
     ]
    }
   ],
   "source": [
    "# define time axis\n",
    "T = 200\n",
    "time = np.linspace(0, 1.0, T)    # 200 samples\n",
    "\n",
    "# random Tx/Rx geometry\n",
    "positions = np.random.rand(2, 3) * 100.0   # 3 transmitters, 2 rows [x; y]\n",
    "c_geom    = 1540.0                         # propagation speed\n",
    "acq_geom  = AcquisitionGeometry(positions, c_geom)\n",
    "\n",
    "# compute TOF and reorder to (Tx, Rx)\n",
    "tof = acq_geom.compute_geometric_tofs()\n",
    "Tx, Rx = tof.shape\n",
    "\n",
    "# build raw data directly in shape (Tx, Rx, T)\n",
    "raw = np.zeros((Tx, Rx, T))\n",
    "for tx in range(Tx):\n",
    "    for rx in range(Rx):\n",
    "        # find nearest time sample to this channel's TOF\n",
    "        idx = np.argmin(np.abs(time - tof[tx, rx]))\n",
    "        raw[tx, rx, idx] = 1.0\n",
    "\n",
    "# add noise\n",
    "raw += 0.05 * np.random.randn(Tx, Rx, T)\n",
    "\n",
    "# wrap in AcquisitionData\n",
    "acq_data = AcquisitionData(array=raw.copy(), time=time, geometry=acq_geom)\n",
    "\n",
    "print(\"acq_data.array.shape:\", acq_data.array.shape)  # (Tx, Rx, T)\n",
    "print(\"First TOF matrix (Tx, Rx):\\n\", tof)"
   ],
   "metadata": {
    "collapsed": false,
    "pycharm": {
     "name": "#%%\n"
    }
   }
  },
  {
   "cell_type": "markdown",
   "source": [
    "## Create & Inspect an Image Grid\n",
    "\n",
    "Define a 2D grid of 50×40 points over a 10×8 mm region, visualize the mesh."
   ],
   "metadata": {
    "collapsed": false,
    "pycharm": {
     "name": "#%% md\n"
    }
   }
  },
  {
   "cell_type": "code",
   "execution_count": 6,
   "outputs": [
    {
     "name": "stdout",
     "output_type": "stream",
     "text": [
      "Image grid shape: (40, 50)\n",
      "Extent: (-5.0, 5.0, -4.0, 4.0)\n",
      "Grid spacing dx=0.20, dy=0.21\n"
     ]
    },
    {
     "data": {
      "text/plain": "<Figure size 400x400 with 1 Axes>",
      "image/png": "[encoded data removed]"
     },
     "metadata": {},
     "output_type": "display_data"
    },
    {
     "data": {
      "text/plain": "<Figure size 640x480 with 2 Axes>",
      "image/png": "[encoded data removed]"
     },
     "metadata": {},
     "output_type": "display_data"
    }
   ],
   "source": [
    "# define x/y coords\n",
    "xi = np.linspace(-5, 5, 50)\n",
    "yi = np.linspace(-4, 4, 40)\n",
    "img_geom = ImageGeometry(xi, yi)\n",
    "\n",
    "print(\"Image grid shape:\", img_geom.shape)\n",
    "print(\"Extent:\", img_geom.extent)\n",
    "dx, dy = img_geom.spacing\n",
    "print(f\"Grid spacing dx={dx:.2f}, dy={dy:.2f}\")\n",
    "\n",
    "# plot mesh\n",
    "X, Y = img_geom.meshgrid()\n",
    "plt.figure(figsize=(4,4))\n",
    "plt.scatter(X.ravel(), Y.ravel(), s=5)\n",
    "plt.title(\"ImageGeometry Mesh\")\n",
    "plt.xlabel(\"x (mm)\"); plt.ylabel(\"y (mm)\")\n",
    "plt.axis(\"equal\")\n",
    "plt.show()\n",
    "\n",
    "# wrap a dummy image & visualize\n",
    "dummy_image = np.sin(2*np.pi*X/10) * np.cos(2*np.pi*Y/8)\n",
    "img_data = ImageData(dummy_image, img_geom)\n",
    "img_data.visualize()"
   ],
   "metadata": {
    "collapsed": false,
    "pycharm": {
     "name": "#%%\n"
    }
   }
  },
  {
   "cell_type": "code",
   "execution_count": null,
   "outputs": [],
   "source": [],
   "metadata": {
    "collapsed": false,
    "pycharm": {
     "name": "#%%\n"
    }
   }
  }
 ],
 "metadata": {
  "kernelspec": {
   "display_name": "Python 3",
   "language": "python",
   "name": "python3"
  },
  "language_info": {
   "codemirror_mode": {
    "name": "ipython",
    "version": 2
   },
   "file_extension": ".py",
   "mimetype": "text/x-python",
   "name": "python",
   "nbconvert_exporter": "python",
   "pygments_lexer": "ipython2",
   "version": "2.7.6"
  }
 },
 "nbformat": 4,
 "nbformat_minor": 0
}